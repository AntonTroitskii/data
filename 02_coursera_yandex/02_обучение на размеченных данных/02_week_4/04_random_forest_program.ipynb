{
 "cells": [
  {
   "cell_type": "markdown",
   "metadata": {},
   "source": [
    "\n",
    "Загрузите датасет digits с помощью функции load_digits из sklearn.datasets и подготовьте матрицу признаков X и ответы на обучающей выборке y (вам потребуются поля data и target в объекте, который возвращает load_digits)"
   ]
  },
  {
   "cell_type": "code",
   "execution_count": 198,
   "metadata": {},
   "outputs": [],
   "source": [
    "from sklearn.datasets import load_digits\n",
    "from sklearn.model_selection import cross_val_score, GridSearchCV\n",
    "from sklearn.tree import DecisionTreeClassifier\n",
    "from sklearn.ensemble import BaggingClassifier, RandomForestClassifier\n",
    "import pandas as pd\n",
    "import numpy as np\n",
    "from matplotlib import pyplot as plt"
   ]
  },
  {
   "cell_type": "code",
   "execution_count": 199,
   "metadata": {},
   "outputs": [],
   "source": [
    "def write_ans(val, file_name):\n",
    "    with open(file_name, 'w') as file:\n",
    "        file.write(str(val)) "
   ]
  },
  {
   "cell_type": "code",
   "execution_count": 200,
   "metadata": {},
   "outputs": [
    {
     "name": "stdout",
     "output_type": "stream",
     "text": [
      "dict_keys(['data', 'target', 'frame', 'feature_names', 'target_names', 'images', 'DESCR'])\n"
     ]
    }
   ],
   "source": [
    "digits = load_digits()\n",
    "print(digits.keys())\n",
    "y = digits.target\n",
    "X = digits.data\n",
    "res = []\n",
    "\n",
    "def get_res(cvs, desc):\n",
    "    return (cvs, desc)"
   ]
  },
  {
   "cell_type": "code",
   "execution_count": 201,
   "metadata": {},
   "outputs": [
    {
     "data": {
      "text/plain": [
       "(1797, 64)"
      ]
     },
     "execution_count": 201,
     "metadata": {},
     "output_type": "execute_result"
    }
   ],
   "source": [
    "len(X), len(X[0])"
   ]
  },
  {
   "cell_type": "markdown",
   "metadata": {},
   "source": [
    "Создайте DecisionTreeClassifier с настройками по умолчанию и измерьте качество его работы с помощью cross_val_score. Эта величина и будет ответом в пункте 1"
   ]
  },
  {
   "cell_type": "code",
   "execution_count": 202,
   "metadata": {},
   "outputs": [
    {
     "data": {
      "text/plain": [
       "0.8263594040968343"
      ]
     },
     "execution_count": 202,
     "metadata": {},
     "output_type": "execute_result"
    }
   ],
   "source": [
    "# 1. одно решающее дерево\n",
    "\n",
    "tree_cl = DecisionTreeClassifier()\n",
    "cvs = cross_val_score(tree_cl, X, y, cv=10)\n",
    "res.append(get_res(cvs, '1 tree'))\n",
    "\n",
    "write_ans(cvs.mean(), 'ans1')\n",
    "cvs.mean()"
   ]
  },
  {
   "cell_type": "code",
   "execution_count": 203,
   "metadata": {},
   "outputs": [
    {
     "name": "stdout",
     "output_type": "stream",
     "text": [
      "0.927048417132216\n"
     ]
    }
   ],
   "source": [
    "# 2. 100 рещающих деревьев. Все признаки\n",
    "\n",
    "tree_cl = DecisionTreeClassifier()\n",
    "bag_cl = BaggingClassifier(base_estimator=tree_cl, n_estimators=100, random_state=0, n_jobs=-1).fit(X, y)\n",
    "cvs = cross_val_score(bag_cl, X, y, cv=10, n_jobs=-1)\n",
    "res.append(get_res(cvs, '100 trees. features = all'))\n",
    "\n",
    "write_ans(cvs.mean(), 'ans2')\n",
    "print(cvs.mean())\n",
    "\n"
   ]
  },
  {
   "cell_type": "code",
   "execution_count": 204,
   "metadata": {},
   "outputs": [
    {
     "data": {
      "text/plain": [
       "0.9293389199255122"
      ]
     },
     "execution_count": 204,
     "metadata": {},
     "output_type": "execute_result"
    }
   ],
   "source": [
    "# 3. 100 рещающих деревьев. max_features = sqrt(num_features) (BaggingClassifier)\n",
    "\n",
    "max_features = np.sqrt(X.shape[1]) / X.shape[1]\n",
    "\n",
    "tree_cl = DecisionTreeClassifier()\n",
    "bag_cl = BaggingClassifier(base_estimator=tree_cl, n_estimators=100, random_state=0, max_features=max_features, n_jobs=-1).fit(X, y)\n",
    "cvs = cross_val_score(bag_cl, X, y, cv=10, n_jobs=-1)\n",
    "res.append(get_res(cvs, '100 trees. features = sqrt(num_features). BaggingClassifier'))\n",
    "\n",
    "write_ans(cvs.mean(), 'ans3')\n",
    "cvs.mean()"
   ]
  },
  {
   "cell_type": "code",
   "execution_count": 205,
   "metadata": {},
   "outputs": [
    {
     "data": {
      "text/plain": [
       "0.9460117939168218"
      ]
     },
     "execution_count": 205,
     "metadata": {},
     "output_type": "execute_result"
    }
   ],
   "source": [
    "# 4. 100 рещающих деревьев. max_features = sqrt(num_features) (DecisionTreeClassifier)\n",
    "\n",
    "max_features = np.sqrt(X.shape[1]) / X.shape[1]\n",
    "\n",
    "tree_cl = DecisionTreeClassifier(max_features=max_features)\n",
    "bag_cl = BaggingClassifier(base_estimator=tree_cl, n_estimators=100, random_state=0, n_jobs=-1).fit(X, y)\n",
    "cvs = cross_val_score(bag_cl, X, y, cv=10, n_jobs=-1)\n",
    "res.append(get_res(cvs, '100 trees. features = sqrt(num_features). DecisionTreeClassifier'))\n",
    "\n",
    "write_ans(cvs.mean(), 'ans4')\n",
    "cvs.mean()"
   ]
  },
  {
   "cell_type": "markdown",
   "metadata": {},
   "source": [
    "Оценим количество ответов в зависимости от класса"
   ]
  },
  {
   "cell_type": "code",
   "execution_count": 206,
   "metadata": {},
   "outputs": [
    {
     "data": {
      "text/plain": [
       "Text(0.5, 0, 'Ответы на объектах')"
      ]
     },
     "execution_count": 206,
     "metadata": {},
     "output_type": "execute_result"
    },
    {
     "data": {
      "image/png": "[encoded data removed]",
      "text/plain": [
       "<Figure size 432x288 with 1 Axes>"
      ]
     },
     "metadata": {
      "needs_background": "light"
     },
     "output_type": "display_data"
    }
   ],
   "source": [
    "plt.hist(y)\n",
    "plt.ylabel('Количество объектов в классах')\n",
    "plt.xlabel('Ответы на объектах')"
   ]
  },
  {
   "cell_type": "markdown",
   "metadata": {},
   "source": [
    "Видно, что количество объектов в кадом классе примерно одинаково.\n",
    "\n",
    "Посмотрим общий количество объектов. "
   ]
  },
  {
   "cell_type": "code",
   "execution_count": 207,
   "metadata": {},
   "outputs": [],
   "source": [
    "n = len(y)"
   ]
  },
  {
   "cell_type": "markdown",
   "metadata": {},
   "source": [
    "Посмотрим распределение ответов на первых 20% объектах. "
   ]
  },
  {
   "cell_type": "code",
   "execution_count": 208,
   "metadata": {},
   "outputs": [
    {
     "data": {
      "text/plain": [
       "Text(0.5, 0, 'Ответы на объектах')"
      ]
     },
     "execution_count": 208,
     "metadata": {},
     "output_type": "execute_result"
    },
    {
     "data": {
      "image/png": "[encoded data removed]",
      "text/plain": [
       "<Figure size 432x288 with 1 Axes>"
      ]
     },
     "metadata": {
      "needs_background": "light"
     },
     "output_type": "display_data"
    }
   ],
   "source": [
    "plt.hist(y[:int(0.2*n)])\n",
    "plt.ylabel('Количество объектов в классах')\n",
    "plt.xlabel('Ответы на объектах')"
   ]
  },
  {
   "cell_type": "markdown",
   "metadata": {},
   "source": [
    "Видно, что объекты имеют около равномерное распределение по ответам."
   ]
  },
  {
   "cell_type": "code",
   "execution_count": 209,
   "metadata": {},
   "outputs": [
    {
     "data": {
      "text/plain": [
       "0.9476939788950961"
      ]
     },
     "execution_count": 209,
     "metadata": {},
     "output_type": "execute_result"
    }
   ],
   "source": [
    "rand_forest = RandomForestClassifier(n_jobs=-1, random_state=0).fit(X, y)\n",
    "cvs = cross_val_score(rand_forest, X, y, cv=10, n_jobs=-1)\n",
    "res.append(get_res(cvs, 'RandomForestClassifier'))\n",
    "cvs.mean()"
   ]
  },
  {
   "cell_type": "code",
   "execution_count": 210,
   "metadata": {},
   "outputs": [
    {
     "name": "stdout",
     "output_type": "stream",
     "text": [
      "0.8264 \t 1 tree\n",
      "0.927 \t 100 trees. features = all\n",
      "0.9293 \t 100 trees. features = sqrt(num_features). BaggingClassifier\n",
      "0.946 \t 100 trees. features = sqrt(num_features). DecisionTreeClassifier\n",
      "0.9477 \t RandomForestClassifier\n"
     ]
    }
   ],
   "source": [
    "for i in res:\n",
    "    print(round(i[0].mean(), 4),'\\t', i[1])"
   ]
  },
  {
   "cell_type": "code",
   "execution_count": 213,
   "metadata": {},
   "outputs": [
    {
     "data": {
      "text/plain": [
       "{'bootstrap': True,\n",
       " 'ccp_alpha': 0.0,\n",
       " 'class_weight': None,\n",
       " 'criterion': 'gini',\n",
       " 'max_depth': None,\n",
       " 'max_features': 'auto',\n",
       " 'max_leaf_nodes': None,\n",
       " 'max_samples': None,\n",
       " 'min_impurity_decrease': 0.0,\n",
       " 'min_samples_leaf': 1,\n",
       " 'min_samples_split': 2,\n",
       " 'min_weight_fraction_leaf': 0.0,\n",
       " 'n_estimators': 100,\n",
       " 'n_jobs': -1,\n",
       " 'oob_score': False,\n",
       " 'random_state': 0,\n",
       " 'verbose': 0,\n",
       " 'warm_start': False}"
      ]
     },
     "execution_count": 213,
     "metadata": {},
     "output_type": "execute_result"
    }
   ],
   "source": [
    "rand_forest = RandomForestClassifier(n_jobs=-1, random_state=0)\n",
    "rand_forest.get_params()"
   ]
  },
  {
   "cell_type": "markdown",
   "metadata": {},
   "source": [
    "### Исследуем качество работы Random forest в зависимости от количества деревье в нем."
   ]
  },
  {
   "cell_type": "code",
   "execution_count": 226,
   "metadata": {},
   "outputs": [],
   "source": [
    "rand_forest = RandomForestClassifier(n_jobs=-1, random_state=0)\n",
    "grid_param = {'n_estimators':  np.arange(5, 501, 5)}"
   ]
  },
  {
   "cell_type": "code",
   "execution_count": 227,
   "metadata": {},
   "outputs": [
    {
     "name": "stdout",
     "output_type": "stream",
     "text": [
      "{'n_estimators': 145}\n",
      "0.9415892912411019\n"
     ]
    }
   ],
   "source": [
    "clf = GridSearchCV(rand_forest, param_grid=grid_param, cv=5, n_jobs=-1, scoring='accuracy').fit(X, y)\n",
    "print(clf.best_params_)\n",
    "print(clf.best_score_)"
   ]
  },
  {
   "cell_type": "code",
   "execution_count": 231,
   "metadata": {},
   "outputs": [
    {
     "data": {
      "text/plain": [
       "{'bootstrap': True,\n",
       " 'ccp_alpha': 0.0,\n",
       " 'class_weight': None,\n",
       " 'criterion': 'gini',\n",
       " 'max_depth': None,\n",
       " 'max_features': 'auto',\n",
       " 'max_leaf_nodes': None,\n",
       " 'max_samples': None,\n",
       " 'min_impurity_decrease': 0.0,\n",
       " 'min_samples_leaf': 1,\n",
       " 'min_samples_split': 2,\n",
       " 'min_weight_fraction_leaf': 0.0,\n",
       " 'n_estimators': 145,\n",
       " 'n_jobs': -1,\n",
       " 'oob_score': False,\n",
       " 'random_state': 0,\n",
       " 'verbose': 0,\n",
       " 'warm_start': False}"
      ]
     },
     "execution_count": 231,
     "metadata": {},
     "output_type": "execute_result"
    }
   ],
   "source": [
    "clf.best_estimator_.get_params()"
   ]
  },
  {
   "cell_type": "code",
   "execution_count": 235,
   "metadata": {},
   "outputs": [
    {
     "data": {
      "text/plain": [
       "Text(0.5, 1.0, 'Зависимость среднего значения Accuracy от количесво дереверьев в RandomForest')"
      ]
     },
     "execution_count": 235,
     "metadata": {},
     "output_type": "execute_result"
    },
    {
     "data": {
      "image/png": "[encoded data removed]",
      "text/plain": [
       "<Figure size 432x288 with 1 Axes>"
      ]
     },
     "metadata": {
      "needs_background": "light"
     },
     "output_type": "display_data"
    }
   ],
   "source": [
    "plt.plot(grid_param['n_estimators'], clf.cv_results_['mean_test_score'])\n",
    "plt.xlabel('Количество деревьев')\n",
    "plt.ylabel('Mean Accuracy')\n",
    "plt.title('Зависимость среднего значения Accuracy от количесво дереверьев в RandomForest')"
   ]
  },
  {
   "cell_type": "markdown",
   "metadata": {},
   "source": [
    "Таким образом \n",
    "\n",
    "1) Случайный лес сильно переобучается с ростом количества деревьев. \n",
    "\n",
    "Неверно. Из графика видно, что средняя точность держится на некотором ассимпотическом уровне с небольшим отклонением. Ни о каком переобучении речи нет.\n",
    "\n",
    "2) При очень маленьком числе деревьев (5, 10, 15), случайный лес работает хуже, чем при большем числе деревьев\n",
    "\n",
    "Верно. Из графика видно, что при маленьких значениях количества деревье среднее значение accuracy на кроссвалидационной выборке минимально, по сравнению с последующими значениями количества деревьев. \n",
    "\n",
    "3) С ростом количества деревьев в случайном лесе, в какой-то момент деревьев становится достаточно для высокого качества классификации, а затем качество существенно не меняется.\n",
    "\n",
    "Верно. Как видно из графика среднее значение Accuracy доходит до какого-то ассимптотического уровня и остется на нем имеея небольшие колебания."
   ]
  },
  {
   "cell_type": "markdown",
   "metadata": {},
   "source": [
    "### Исследуем качество классификации в зависимости от количества признков"
   ]
  },
  {
   "cell_type": "code",
   "execution_count": 247,
   "metadata": {},
   "outputs": [],
   "source": [
    "rand_forest = RandomForestClassifier(n_jobs=-1, random_state=0)\n",
    "max_f = len(X[0])\n",
    "f_list = np.append(np.arange(1, max_f, 5), 64)\n",
    "grid_param = {'max_features':  f_list}"
   ]
  },
  {
   "cell_type": "code",
   "execution_count": 248,
   "metadata": {},
   "outputs": [
    {
     "name": "stdout",
     "output_type": "stream",
     "text": [
      "{'max_features': 6}\n",
      "0.9376988548437015\n"
     ]
    }
   ],
   "source": [
    "clf = GridSearchCV(rand_forest, param_grid=grid_param, cv=5, n_jobs=-1, scoring='accuracy').fit(X, y)\n",
    "print(clf.best_params_)\n",
    "print(clf.best_score_)"
   ]
  },
  {
   "cell_type": "code",
   "execution_count": 249,
   "metadata": {},
   "outputs": [
    {
     "data": {
      "text/plain": [
       "Text(0.5, 1.0, 'Зависимость среднего значения Accuracy от количетсва признаков в RandomForest')"
      ]
     },
     "execution_count": 249,
     "metadata": {},
     "output_type": "execute_result"
    },
    {
     "data": {
      "image/png": "[encoded data removed]",
      "text/plain": [
       "<Figure size 432x288 with 1 Axes>"
      ]
     },
     "metadata": {
      "needs_background": "light"
     },
     "output_type": "display_data"
    }
   ],
   "source": [
    "plt.plot(grid_param['max_features'], clf.cv_results_['mean_test_score'])\n",
    "plt.xlabel('Количество признаков')\n",
    "plt.ylabel('Mean Accuracy')\n",
    "plt.title('Зависимость среднего значения Accuracy от количетсва признакови в RandomForest')"
   ]
  },
  {
   "cell_type": "markdown",
   "metadata": {},
   "source": [
    "4) При большом количестве признаков (для данного датасета - 40, 50) качество классификации становится хуже, чем при малом количестве признаков (5, 10). Это связано с тем, что чем меньше признаков выбирается в каждом узле, тем более различными получаются деревья (ведь деревья сильно неустойчивы к изменениям в обучающей выборке), и тем лучше работает их композиция.\n",
    "\n",
    "Верно.\n",
    "\n",
    "5) При большом количестве признаков (40, 50, 60) качество классификации лучше, чем при малом количестве признаков (5, 10). Это связано с тем, что чем больше признаков - тем больше информации об объектах, а значит алгоритм может делать прогнозы более точно.\n",
    "\n",
    "Неверно.\n",
    "\n",
    "Все видно по графику выше."
   ]
  },
  {
   "cell_type": "markdown",
   "metadata": {},
   "source": [
    "#  Исследуем качество классификации в зависимости от глубины деревьев в RandomForest"
   ]
  },
  {
   "cell_type": "code",
   "execution_count": 255,
   "metadata": {},
   "outputs": [],
   "source": [
    "rand_forest = RandomForestClassifier(n_jobs=-1, random_state=0)\n",
    "grid_param = {'max_depth':  np.arange(1, 200, 3)}"
   ]
  },
  {
   "cell_type": "code",
   "execution_count": 256,
   "metadata": {},
   "outputs": [
    {
     "name": "stdout",
     "output_type": "stream",
     "text": [
      "{'max_depth': 10}\n",
      "0.9438084184463016\n"
     ]
    }
   ],
   "source": [
    "clf = GridSearchCV(rand_forest, param_grid=grid_param, cv=5, n_jobs=-1, scoring='accuracy').fit(X, y)\n",
    "print(clf.best_params_)\n",
    "print(clf.best_score_)"
   ]
  },
  {
   "cell_type": "code",
   "execution_count": 258,
   "metadata": {},
   "outputs": [
    {
     "data": {
      "text/plain": [
       "Text(0.5, 1.0, 'Зависимость среднего значения Accuracy от клбины деревьев в RandomForest')"
      ]
     },
     "execution_count": 258,
     "metadata": {},
     "output_type": "execute_result"
    },
    {
     "data": {
      "image/png": "[encoded data removed]",
      "text/plain": [
       "<Figure size 432x288 with 1 Axes>"
      ]
     },
     "metadata": {
      "needs_background": "light"
     },
     "output_type": "display_data"
    }
   ],
   "source": [
    "plt.plot(grid_param['max_depth'], clf.cv_results_['mean_test_score'])\n",
    "plt.xlabel('Макс. глубина деревьев')\n",
    "plt.ylabel('Mean Accuracy')\n",
    "plt.title('Зависимость среднего значения Accuracy от клбины деревьев в RandomForest')"
   ]
  },
  {
   "cell_type": "markdown",
   "metadata": {},
   "source": [
    "6) При небольшой максимальной глубине деревьев (5-6) качество работы случайного леса намного лучше, чем без ограничения глубины, т.к. деревья получаются не переобученными. С ростом глубины деревьев качество ухудшается.\n",
    "\n",
    "Неверно.\n",
    "\n",
    "7) При небольшой максимальной глубине деревьев (5-6) качество работы случайного леса заметно хуже, чем без ограничений, т.к. деревья получаются недообученными. С ростом глубины качество сначала улучшается, а затем не меняется существенно, т.к. из-за усреднения прогнозов и различий деревьев их переобученность в бэггинге не сказывается на итоговом качестве (все деревья преобучены по-разному, и при усреднении они компенсируют переобученность друг-друга).\n",
    "\n",
    "Верно.\n",
    "\n",
    "Все видно из графика приведенного выше. "
   ]
  },
  {
   "cell_type": "code",
   "execution_count": null,
   "metadata": {},
   "outputs": [],
   "source": [
    "\n"
   ]
  },
  {
   "cell_type": "code",
   "execution_count": 168,
   "metadata": {},
   "outputs": [],
   "source": [
    "import copy\n",
    "previous_clf = copy.deepcopy(clf)"
   ]
  },
  {
   "cell_type": "code",
   "execution_count": null,
   "metadata": {},
   "outputs": [
    {
     "name": "stdout",
     "output_type": "stream",
     "text": [
      "{'max_features': 6}\n",
      "0.9376988548437015\n"
     ]
    }
   ],
   "source": [
    "clf = GridSearchCV(rand_forest, param_grid=grid_param, cv=5, n_jobs=-1, scoring='accuracy').fit(X, y)\n",
    "print(clf.best_params_)\n",
    "print(clf.best_score_)"
   ]
  },
  {
   "cell_type": "code",
   "execution_count": null,
   "metadata": {},
   "outputs": [],
   "source": []
  },
  {
   "cell_type": "code",
   "execution_count": 179,
   "metadata": {},
   "outputs": [
    {
     "data": {
      "text/plain": [
       "{'bootstrap': False,\n",
       " 'criterion': 'gini',\n",
       " 'max_depth': 10,\n",
       " 'max_features': 'log2',\n",
       " 'min_samples_leaf': 1,\n",
       " 'min_samples_split': 3,\n",
       " 'n_estimators': 200}"
      ]
     },
     "execution_count": 179,
     "metadata": {},
     "output_type": "execute_result"
    }
   ],
   "source": [
    "previous_clf.best_params_"
   ]
  },
  {
   "cell_type": "code",
   "execution_count": 174,
   "metadata": {},
   "outputs": [
    {
     "data": {
      "text/plain": [
       "dict_keys(['mean_fit_time', 'std_fit_time', 'mean_score_time', 'std_score_time', 'param_bootstrap', 'param_criterion', 'param_max_depth', 'param_max_features', 'param_min_samples_leaf', 'param_min_samples_split', 'param_n_estimators', 'params', 'split0_test_score', 'split1_test_score', 'split2_test_score', 'split3_test_score', 'split4_test_score', 'split5_test_score', 'split6_test_score', 'split7_test_score', 'split8_test_score', 'split9_test_score', 'mean_test_score', 'std_test_score', 'rank_test_score'])"
      ]
     },
     "execution_count": 174,
     "metadata": {},
     "output_type": "execute_result"
    }
   ],
   "source": [
    "previous_clf.cv_results_.keys()"
   ]
  },
  {
   "cell_type": "code",
   "execution_count": 175,
   "metadata": {},
   "outputs": [
    {
     "data": {
      "text/plain": [
       "[<matplotlib.lines.Line2D at 0x18d73521be0>]"
      ]
     },
     "execution_count": 175,
     "metadata": {},
     "output_type": "execute_result"
    },
    {
     "data": {
      "image/png": "[encoded data removed]",
      "text/plain": [
       "<Figure size 432x288 with 1 Axes>"
      ]
     },
     "metadata": {
      "needs_background": "light"
     },
     "output_type": "display_data"
    }
   ],
   "source": [
    "plt.plot(previous_clf.cv_results_['mean_test_score'])"
   ]
  },
  {
   "cell_type": "code",
   "execution_count": 105,
   "metadata": {},
   "outputs": [],
   "source": [
    "# 5. 100 рещающих деревьев. max_features = sqrt(num_features) (DecisionTreeClassifier)\n",
    "\n",
    "\n",
    "rand_forest = RandomForestClassifier(n_estimators=100, criterion='entropy', max_features='log2', bootstrap=True, random_state=0, n_jobs=-1).fit(X, y)\n",
    "cvs = cross_val_score(rand_forest, X, y, cv=10, n_jobs=-1)\n",
    "res.append(get_res(cvs, '100 trees. features = sqrt(num_features). RandomForestClassifier'))"
   ]
  },
  {
   "cell_type": "code",
   "execution_count": 67,
   "metadata": {},
   "outputs": [
    {
     "name": "stdout",
     "output_type": "stream",
     "text": [
      "0.8258 \t 1 tree\n",
      "0.927 \t 100 trees. features = all\n",
      "0.9293 \t 100 trees. features = sqrt(num_features). BaggingClassifier\n",
      "0.946 \t 100 trees. features = sqrt(num_features). DecisionTreeClassifier\n",
      "0.9477 \t 100 trees. features = sqrt(num_features). RandomForestClassifier\n",
      "0.9477 \t 100 trees. features = sqrt(num_features). RandomForestClassifier\n",
      "0.9477 \t 100 trees. features = sqrt(num_features). RandomForestClassifier\n",
      "0.9494 \t 100 trees. features = sqrt(num_features). RandomForestClassifier\n",
      "0.9471 \t 100 trees. features = sqrt(num_features). RandomForestClassifier\n",
      "0.9494 \t 100 trees. features = sqrt(num_features). RandomForestClassifier\n",
      "0.9477 \t 100 trees. features = sqrt(num_features). RandomForestClassifier\n",
      "0.9493 \t 100 trees. features = sqrt(num_features). DecisionTreeClassifier\n",
      "0.9494 \t 100 trees. features = sqrt(num_features). DecisionTreeClassifier\n",
      "0.9505 \t 100 trees. features = sqrt(num_features). RandomForestClassifier\n",
      "0.9505 \t 100 trees. features = sqrt(num_features). RandomForestClassifier\n",
      "0.951 \t 100 trees. features = sqrt(num_features). RandomForestClassifier\n",
      "0.951 \t 100 trees. features = sqrt(num_features). RandomForestClassifier\n",
      "0.9477 \t 100 trees. features = sqrt(num_features). RandomForestClassifier\n",
      "0.9477 \t 100 trees. features = sqrt(num_features). RandomForestClassifier\n",
      "0.9477 \t 100 trees. features = sqrt(num_features). RandomForestClassifier\n",
      "0.9477 \t 100 trees. features = sqrt(num_features). RandomForestClassifier\n",
      "0.951 \t 100 trees. features = sqrt(num_features). RandomForestClassifier\n",
      "0.9538 \t 100 trees. features = sqrt(num_features). RandomForestClassifier\n",
      "0.9521 \t 100 trees. features = sqrt(num_features). RandomForestClassifier\n",
      "0.9505 \t 100 trees. features = sqrt(num_features). RandomForestClassifier\n",
      "0.9521 \t 100 trees. features = sqrt(num_features). RandomForestClassifier\n",
      "0.9482 \t 100 trees. features = sqrt(num_features). RandomForestClassifier\n",
      "0.9521 \t 100 trees. features = sqrt(num_features). RandomForestClassifier\n"
     ]
    }
   ],
   "source": [
    "for i in res:\n",
    "    print(round(i[0].mean(), 4),'\\t', i[1])"
   ]
  },
  {
   "cell_type": "code",
   "execution_count": null,
   "metadata": {},
   "outputs": [],
   "source": []
  }
 ],
 "metadata": {
  "interpreter": {
   "hash": "9c3b7df13784f01328c2631e984956adf70bf3282c42d87cfafb0a989ce8d5dc"
  },
  "kernelspec": {
   "display_name": "Python 3.9.4 64-bit ('02_coursera_yandex-gbo-Kul1': virtualenv)",
   "name": "python3"
  },
  "language_info": {
   "codemirror_mode": {
    "name": "ipython",
    "version": 3
   },
   "file_extension": ".py",
   "mimetype": "text/x-python",
   "name": "python",
   "nbconvert_exporter": "python",
   "pygments_lexer": "ipython3",
   "version": "3.9.4"
  }
 },
 "nbformat": 4,
 "nbformat_minor": 1
}
