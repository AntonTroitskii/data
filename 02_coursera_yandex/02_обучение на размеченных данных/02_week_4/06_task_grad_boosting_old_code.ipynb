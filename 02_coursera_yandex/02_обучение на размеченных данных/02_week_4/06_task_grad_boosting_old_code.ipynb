{
 "cells": [
  {
   "cell_type": "code",
   "execution_count": null,
   "metadata": {},
   "outputs": [],
   "source": [
    "def get_s(alg_predict, y):\n",
    "    s = -2*(alg_predict - y)\n",
    "    s = s.reshape(-1, 1)\n",
    "\n",
    "    return s\n",
    "\n",
    "def get_algo_predict(algo_list,ind, X):\n",
    "    end = ind\n",
    "    res = sum(algo_list[i].predict(X) for i in range(0, end))\n",
    "    res  = res.reshape(-1, 1)\n",
    "    return res"
   ]
  },
  {
   "cell_type": "code",
   "execution_count": null,
   "metadata": {},
   "outputs": [],
   "source": []
  }
 ],
 "metadata": {
  "interpreter": {
   "hash": "9c3b7df13784f01328c2631e984956adf70bf3282c42d87cfafb0a989ce8d5dc"
  },
  "kernelspec": {
   "display_name": "Python 3.9.4 64-bit ('02_coursera_yandex-gbo-Kul1': virtualenv)",
   "name": "python3"
  },
  "language_info": {
   "name": "python",
   "version": "3.9.4"
  },
  "orig_nbformat": 4
 },
 "nbformat": 4,
 "nbformat_minor": 2
}
