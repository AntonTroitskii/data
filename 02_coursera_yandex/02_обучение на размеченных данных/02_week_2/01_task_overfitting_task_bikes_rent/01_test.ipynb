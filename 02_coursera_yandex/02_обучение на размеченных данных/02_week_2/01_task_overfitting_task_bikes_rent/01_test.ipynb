{
 "cells": [
  {
   "cell_type": "markdown",
   "id": "e192c603-edb9-4324-b617-0aa98b5b8fd3",
   "metadata": {},
   "source": [
    "# Test Enumerate"
   ]
  },
  {
   "cell_type": "code",
   "execution_count": 4,
   "id": "c403ac81-ed60-4b7a-b1bf-accb7f67f19c",
   "metadata": {},
   "outputs": [],
   "source": [
    "l1 = list(range(0, 10))"
   ]
  },
  {
   "cell_type": "code",
   "execution_count": 5,
   "id": "4595944a-601d-472c-b973-5ffdffe283ff",
   "metadata": {},
   "outputs": [
    {
     "data": {
      "text/plain": [
       "[0, 1, 2, 3, 4, 5, 6, 7, 8, 9]"
      ]
     },
     "execution_count": 5,
     "metadata": {},
     "output_type": "execute_result"
    }
   ],
   "source": [
    "l1"
   ]
  },
  {
   "cell_type": "code",
   "execution_count": 7,
   "id": "172296fa-ea57-4605-889a-974a3a3f5509",
   "metadata": {},
   "outputs": [
    {
     "name": "stdout",
     "output_type": "stream",
     "text": [
      "0\n",
      "1\n",
      "2\n",
      "3\n",
      "4\n",
      "5\n",
      "6\n",
      "7\n",
      "8\n",
      "9\n"
     ]
    }
   ],
   "source": [
    "for i, j in enumerate(l1):\n",
    "    print(i, j)"
   ]
  },
  {
   "cell_type": "code",
   "execution_count": 9,
   "id": "c2f73d96-5fbb-4149-a9ca-4a22988598ce",
   "metadata": {},
   "outputs": [],
   "source": [
    "s1 = 'test'"
   ]
  },
  {
   "cell_type": "code",
   "execution_count": 10,
   "id": "93168b8e-dfde-4b94-ba96-31e14f569f49",
   "metadata": {},
   "outputs": [
    {
     "name": "stdout",
     "output_type": "stream",
     "text": [
      "0 t\n",
      "1 e\n",
      "2 s\n",
      "3 t\n"
     ]
    }
   ],
   "source": [
    "for i, val in enumerate(s1):\n",
    "        print(i, val)"
   ]
  },
  {
   "cell_type": "code",
   "execution_count": null,
   "id": "79760954-4640-435e-9235-cb4bf9bdb348",
   "metadata": {},
   "outputs": [],
   "source": []
  }
 ],
 "metadata": {
  "kernelspec": {
   "display_name": "Python 3 (ipykernel)",
   "language": "python",
   "name": "python3"
  },
  "language_info": {
   "codemirror_mode": {
    "name": "ipython",
    "version": 3
   },
   "file_extension": ".py",
   "mimetype": "text/x-python",
   "name": "python",
   "nbconvert_exporter": "python",
   "pygments_lexer": "ipython3",
   "version": "3.9.4"
  }
 },
 "nbformat": 4,
 "nbformat_minor": 5
}
