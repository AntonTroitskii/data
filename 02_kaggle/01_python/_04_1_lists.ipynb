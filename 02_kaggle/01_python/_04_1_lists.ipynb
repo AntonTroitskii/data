{
 "metadata": {
  "kernelspec": {
   "language": "python",
   "display_name": "Python 3",
   "name": "python3"
  },
  "language_info": {
   "pygments_lexer": "ipython3",
   "nbconvert_exporter": "python",
   "version": "3.6.4",
   "file_extension": ".py",
   "codemirror_mode": {
    "name": "ipython",
    "version": 3
   },
   "name": "python",
   "mimetype": "text/x-python"
  }
 },
 "nbformat_minor": 4,
 "nbformat": 4,
 "cells": [
  {
   "cell_type": "markdown",
   "source": [
    "        return name in arrivals[len_ar // 2 +1: -1]\n",
    "        return name in arrivals[len_ar // 2 +1: -1]\n",
    "# Lists\n",
    "\n",
    "Lists in Python represent ordered sequences of values. Here is an example of how to create them:"
   ],
   "metadata": {}
  },
  {
   "cell_type": "code",
   "source": [
    "primes = [2, 3, 5, 7]"
   ],
   "metadata": {
    "trusted": true
   },
   "execution_count": null,
   "outputs": []
  },
  {
   "cell_type": "code",
   "source": [
    "test = [1, 2.0, 'test']\n",
    "\n",
    "print(test)\n",
    "\n",
    "for i in test:\n",
    "    print(i, end='; ')\n",
    "\n",
    "print(tets[2])\n",
    "print(test[-4])"
   ],
   "metadata": {
    "trusted": true,
    "pycharm": {
     "name": "#%%\n"
    }
   },
   "execution_count": null,
   "outputs": []
  },
  {
   "cell_type": "markdown",
   "source": "We can put other types of things in lists:",
   "metadata": {}
  },
  {
   "cell_type": "code",
   "source": "planets = ['Mercury', 'Venus', 'Earth', 'Mars', 'Jupiter', 'Saturn', 'Uranus', 'Neptune']",
   "metadata": {
    "trusted": true
   },
   "execution_count": null,
   "outputs": []
  },
  {
   "cell_type": "markdown",
   "source": "We can even make a list of lists:",
   "metadata": {}
  },
  {
   "cell_type": "code",
   "source": "hands = [\n    ['J', 'Q', 'K'],\n    ['2', '2', '2'],\n    ['6', 'A', 'K'], # (Comma after the last element is optional)\n]\n# (I could also have written this on one line, but it can get hard to read)\nhands = [['J', 'Q', 'K'], ['2', '2', '2'], ['6', 'A', 'K']]",
   "metadata": {
    "trusted": true
   },
   "execution_count": null,
   "outputs": []
  },
  {
   "cell_type": "markdown",
   "source": "A list can contain a mix of different types of variables:",
   "metadata": {}
  },
  {
   "cell_type": "code",
   "source": "my_favourite_things = [32, 'raindrops on roses', help]\n# (Yes, Python's help function is *definitely* one of my favourite things)",
   "metadata": {
    "trusted": true
   },
   "execution_count": null,
   "outputs": []
  },
  {
   "cell_type": "markdown",
   "source": "## Indexing\n\nYou can access individual list elements with square brackets.\n\nWhich planet is closest to the sun? Python uses *zero-based* indexing, so the first element has index 0.",
   "metadata": {}
  },
  {
   "cell_type": "code",
   "source": "planets[0]",
   "metadata": {
    "trusted": true
   },
   "execution_count": null,
   "outputs": []
  },
  {
   "cell_type": "markdown",
   "source": "What's the next closest planet?",
   "metadata": {}
  },
  {
   "cell_type": "code",
   "source": "planets[1]",
   "metadata": {
    "trusted": true
   },
   "execution_count": null,
   "outputs": []
  },
  {
   "cell_type": "markdown",
   "source": "Which planet is *furthest* from the sun?\n\nElements at the end of the list can be accessed with negative numbers, starting from -1:",
   "metadata": {}
  },
  {
   "cell_type": "code",
   "source": "planets[-1]",
   "metadata": {
    "trusted": true
   },
   "execution_count": null,
   "outputs": []
  },
  {
   "cell_type": "code",
   "source": "planets[-2]",
   "metadata": {
    "trusted": true
   },
   "execution_count": null,
   "outputs": []
  },
  {
   "cell_type": "markdown",
   "source": "## Slicing\n\nWhat are the first three planets? We can answer this question using *slicing*:",
   "metadata": {}
  },
  {
   "cell_type": "code",
   "source": "planets[0:3]",
   "metadata": {
    "trusted": true
   },
   "execution_count": null,
   "outputs": []
  },
  {
   "cell_type": "markdown",
   "source": "`planets[0:3]` is our way of asking for the elements of `planets` starting from index 0 and continuing up to *but not including* index 3.\n\nThe starting and ending indices are both optional. If I leave out the start index, it's assumed to be 0. So I could rewrite the expression above as:",
   "metadata": {}
  },
  {
   "cell_type": "code",
   "source": "planets[:3]",
   "metadata": {
    "trusted": true
   },
   "execution_count": null,
   "outputs": []
  },
  {
   "cell_type": "markdown",
   "source": "If I leave out the end index, it's assumed to be the length of the list.",
   "metadata": {}
  },
  {
   "cell_type": "code",
   "source": "planets[3:]",
   "metadata": {
    "trusted": true
   },
   "execution_count": null,
   "outputs": []
  },
  {
   "cell_type": "markdown",
   "source": "i.e. the expression above means \"give me all the planets from index 3 onward\".\n\nWe can also use negative indices when slicing:",
   "metadata": {}
  },
  {
   "cell_type": "code",
   "source": "# All the planets except the first and last\nplanets[1:-1]",
   "metadata": {
    "trusted": true
   },
   "execution_count": null,
   "outputs": []
  },
  {
   "cell_type": "code",
   "source": "# The last 3 planets\nplanets[-3:]",
   "metadata": {
    "trusted": true
   },
   "execution_count": null,
   "outputs": []
  },
  {
   "cell_type": "markdown",
   "source": "## Changing lists\n\nLists are \"mutable\", meaning they can be modified \"in place\".\n\nOne way to modify a list is to assign to an index or slice expression.\n\nFor example, let's say we want to rename Mars:",
   "metadata": {}
  },
  {
   "cell_type": "code",
   "source": "planets[3] = 'Malacandra'\nplanets",
   "metadata": {
    "trusted": true
   },
   "execution_count": null,
   "outputs": []
  },
  {
   "cell_type": "markdown",
   "source": "Hm, that's quite a mouthful. Let's compensate by shortening the names of the first 3 planets.",
   "metadata": {}
  },
  {
   "cell_type": "code",
   "source": "planets[:3] = ['Mur', 'Vee', 'Ur']\nprint(planets)\n# That was silly. Let's give them back their old names\nplanets[:4] = ['Mercury', 'Venus', 'Earth', 'Mars',]",
   "metadata": {
    "trusted": true
   },
   "execution_count": null,
   "outputs": []
  },
  {
   "cell_type": "markdown",
   "source": "## List functions\n\nPython has several useful functions for working with lists.\n\n`len` gives the length of a list:",
   "metadata": {}
  },
  {
   "cell_type": "code",
   "source": "# How many planets are there?\nlen(planets)",
   "metadata": {
    "trusted": true
   },
   "execution_count": null,
   "outputs": []
  },
  {
   "cell_type": "markdown",
   "source": "`sorted` returns a sorted version of a list:",
   "metadata": {}
  },
  {
   "cell_type": "code",
   "source": "# The planets sorted in alphabetical order\nlist1 = sorted(planets)\nprint(list1)\nprint(planets)",
   "metadata": {
    "trusted": true
   },
   "execution_count": null,
   "outputs": []
  },
  {
   "cell_type": "markdown",
   "source": "`sum` does what you might expect:",
   "metadata": {}
  },
  {
   "cell_type": "code",
   "source": "primes = [2, 3, 5, 7]\nsum(primes)",
   "metadata": {
    "trusted": true
   },
   "execution_count": null,
   "outputs": []
  },
  {
   "cell_type": "markdown",
   "source": "We've previously used the `min` and `max` to get the minimum or maximum of several arguments. But we can also pass in a single list argument.",
   "metadata": {}
  },
  {
   "cell_type": "code",
   "source": "max(primes)",
   "metadata": {
    "trusted": true
   },
   "execution_count": null,
   "outputs": []
  },
  {
   "cell_type": "markdown",
   "source": "## Interlude: objects\n\nI've used the term 'object' a lot so far - you may have even read that *everything* in Python is an object. What does that mean?\n\nIn short, objects carry some things around with them. You access that stuff using Python's dot syntax.\n\nFor example, numbers in Python carry around an associated variable called `imag` representing their imaginary part. (You'll probably never need to use this unless you're doing some very weird math.)",
   "metadata": {}
  },
  {
   "cell_type": "code",
   "source": "x = 12\n# x is a real number, so its imaginary part is 0.\nprint(x.imag)\n# Here's how to make a complex number, in case you've ever been curious:\nc = 12 + 3j\nprint(c.imag)",
   "metadata": {
    "trusted": true
   },
   "execution_count": null,
   "outputs": []
  },
  {
   "cell_type": "markdown",
   "source": "The things an object carries around can also include functions. A function attached to an object is called a **method**. (Non-function things attached to an object, such as `imag`, are called *attributes*).\n\nFor example, numbers have a method called `bit_length`. Again, we access it using dot syntax:",
   "metadata": {}
  },
  {
   "cell_type": "code",
   "source": "x.bit_length",
   "metadata": {
    "trusted": true
   },
   "execution_count": null,
   "outputs": []
  },
  {
   "cell_type": "markdown",
   "source": "To actually call it, we add parentheses:",
   "metadata": {}
  },
  {
   "cell_type": "code",
   "source": "x.bit_length()",
   "metadata": {
    "trusted": true
   },
   "execution_count": null,
   "outputs": []
  },
  {
   "cell_type": "markdown",
   "source": "> **Aside:** You've actually been calling methods already if you've been doing the exercises. In the exercise notebooks `q1`, `q2`, `q3`, etc. are all objects which have methods called `check`, `hint`, and `solution`.\n\nIn the same way that we can pass functions to the `help` function (e.g. `help(max)`), we can also pass in methods:",
   "metadata": {}
  },
  {
   "cell_type": "code",
   "source": "help(x.bit_length)",
   "metadata": {
    "trusted": true
   },
   "execution_count": null,
   "outputs": []
  },
  {
   "cell_type": "markdown",
   "source": "<!-- TODO:\ndir?\nA useful builtin method for interacting with objects is `dir`. `dir` asks: what are the names of all the things (methods, and attributes) that this object is carrying around?\nhelp(x)?\n-->\n\nThe examples above were utterly obscure. None of the types of objects we've looked at so far (numbers, functions, booleans) have attributes or methods you're likely ever to use.\n\nBut it turns out that lists have several methods which you'll use all the time.",
   "metadata": {}
  },
  {
   "cell_type": "markdown",
   "source": "## List methods",
   "metadata": {}
  },
  {
   "cell_type": "markdown",
   "source": "`list.append` modifies a list by adding an item to the end:",
   "metadata": {}
  },
  {
   "cell_type": "code",
   "source": "# Pluto is a planet darn it!\nplanets.append('Pluto')",
   "metadata": {
    "trusted": true
   },
   "execution_count": null,
   "outputs": []
  },
  {
   "cell_type": "markdown",
   "source": "Why does the cell above have no output? Let's check the documentation by calling `help(planets.append)`.\n\n> **Aside:** `append` is a method carried around by *all* objects of type list, not just `planets`, so we also could have called `help(list.append)`. However, if we try to call `help(append)`, Python will complain that no variable exists called \"append\". The \"append\" name only exists within lists - it doesn't exist as a standalone name like builtin functions such as `max` or `len`.",
   "metadata": {}
  },
  {
   "cell_type": "code",
   "source": "help(planets.append)",
   "metadata": {
    "trusted": true
   },
   "execution_count": null,
   "outputs": []
  },
  {
   "cell_type": "markdown",
   "source": "The `-> None` part is telling us that `list.append` doesn't return anything. But if we check the value of `planets`, we can see that the method call modified the value of `planets`:",
   "metadata": {}
  },
  {
   "cell_type": "code",
   "source": "planets",
   "metadata": {
    "trusted": true
   },
   "execution_count": null,
   "outputs": []
  },
  {
   "cell_type": "markdown",
   "source": "`list.pop` removes and returns the last element of a list:",
   "metadata": {}
  },
  {
   "cell_type": "code",
   "source": "planets.pop()",
   "metadata": {
    "trusted": true
   },
   "execution_count": null,
   "outputs": []
  },
  {
   "cell_type": "code",
   "source": "planets",
   "metadata": {
    "trusted": true
   },
   "execution_count": null,
   "outputs": []
  },
  {
   "cell_type": "markdown",
   "source": "### Searching lists\n\nWhere does Earth fall in the order of planets? We can get its index using the `list.index` method.",
   "metadata": {}
  },
  {
   "cell_type": "code",
   "source": "try:\n    print(planets.index('Earth'))\nexcept ValueError:\n    print('Данного значения нет')",
   "metadata": {
    "trusted": true
   },
   "execution_count": null,
   "outputs": []
  },
  {
   "cell_type": "markdown",
   "source": "It comes third (i.e. at index 2 - 0 indexing!).\n\n\nAt what index does Pluto occur?",
   "metadata": {}
  },
  {
   "cell_type": "code",
   "source": "planets.index('Pluto')",
   "metadata": {
    "tags": [
     "raises-exception"
    ],
    "trusted": true
   },
   "execution_count": null,
   "outputs": []
  },
  {
   "cell_type": "markdown",
   "source": "Oh, that's right...\n\nTo avoid unpleasant surprises like this, we can use the `in` operator to determine whether a list contains a particular value:",
   "metadata": {}
  },
  {
   "cell_type": "code",
   "source": "# Для решения вопроса, можно использовать обработку исключений\n\n# try:\n#     planets.index('Pluto')\n# except ValueError:\n#     print('Данного значения нет')",
   "metadata": {},
   "execution_count": null,
   "outputs": []
  },
  {
   "cell_type": "code",
   "source": "# Is Earth a planet?\n\"Earth\" in planets",
   "metadata": {
    "trusted": true
   },
   "execution_count": null,
   "outputs": []
  },
  {
   "cell_type": "code",
   "source": "# Is Calbefraques a planet?\n\"Calbefraques\" in planets",
   "metadata": {
    "trusted": true
   },
   "execution_count": null,
   "outputs": []
  },
  {
   "cell_type": "markdown",
   "source": "There are a few more interesting list methods we haven't covered. If you want to learn about all the methods and attributes attached to a particular object, we can call `help()` on the object itself. For example, `help(planets)` will tell us about *all* the list methods: ",
   "metadata": {}
  },
  {
   "cell_type": "code",
   "source": "help(planets)",
   "metadata": {
    "_kg_hide-output": true,
    "trusted": true
   },
   "execution_count": null,
   "outputs": []
  },
  {
   "cell_type": "markdown",
   "source": "Click the \"output\" button to see the full help page. Lists have lots of methods with weird-looking names like `__eq__` and `__iadd__`. Don't worry too much about these for now. (You'll probably never call such methods directly. But they get called behind the scenes when we use syntax like indexing or comparison operators.) The most interesting methods are toward the bottom of the list (`append`, `clear`, `copy`, etc.).",
   "metadata": {}
  },
  {
   "cell_type": "markdown",
   "source": "## Tuples\n\nTuples are almost exactly the same as lists. They differ in just two ways.\n\n**1:** The syntax for creating them uses parentheses instead of square brackets",
   "metadata": {}
  },
  {
   "cell_type": "code",
   "source": "t = (1, 2, 3)",
   "metadata": {
    "trusted": true
   },
   "execution_count": null,
   "outputs": []
  },
  {
   "cell_type": "code",
   "source": "t = 1, 2, 3 # equivalent to above\nt",
   "metadata": {
    "trusted": true
   },
   "execution_count": null,
   "outputs": []
  },
  {
   "cell_type": "markdown",
   "source": "**2:** They cannot be modified (they are *immutable*).",
   "metadata": {}
  },
  {
   "cell_type": "code",
   "source": "t[0] = 100\nprint(t[0])",
   "metadata": {
    "tags": [
     "raises-exception"
    ],
    "trusted": true
   },
   "execution_count": null,
   "outputs": []
  },
  {
   "cell_type": "markdown",
   "source": "Tuples are often used for functions that have multiple return values.\n\nFor example, the ``as_integer_ratio()`` method of float objects returns a numerator and a denominator in the form of a tuple:",
   "metadata": {}
  },
  {
   "cell_type": "code",
   "source": "x = 0.125\nx.as_integer_ratio()",
   "metadata": {
    "trusted": true
   },
   "execution_count": null,
   "outputs": []
  },
  {
   "cell_type": "markdown",
   "source": "These multiple return values can be individually assigned as follows:",
   "metadata": {}
  },
  {
   "cell_type": "code",
   "source": "numerator, denominator = x.as_integer_ratio()\nprint(numerator / denominator)",
   "metadata": {
    "trusted": true
   },
   "execution_count": null,
   "outputs": []
  },
  {
   "cell_type": "markdown",
   "source": "Finally we have some insight into the classic Stupid Python Trick™ for swapping two variables!",
   "metadata": {}
  },
  {
   "cell_type": "code",
   "source": "a = 1\nb = 0\na, b = b, a\nprint(a, b)",
   "metadata": {
    "trusted": true
   },
   "execution_count": null,
   "outputs": []
  },
  {
   "cell_type": "markdown",
   "source": "# Your Turn\n\nYou learn best by writing code, not just reading it. So try **[the coding challenge](https://www.kaggle.com/kernels/fork/1275173)** now.",
   "metadata": {}
  },
  {
   "cell_type": "markdown",
   "source": "---\n\n\n\n\n*Have questions or comments? Visit the [Learn Discussion forum](https://www.kaggle.com/learn-forum/161283) to chat with other Learners.*",
   "metadata": {}
  }
 ]
}