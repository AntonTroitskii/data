{
 "cells": [
  {
   "cell_type": "markdown",
   "id": "050ec52b-9c57-41de-9556-fecd2055b806",
   "metadata": {},
   "source": [
    "### Создание данных\n",
    "\n",
    "Создадим массив 2d массив данных, который можно будет использовать. "
   ]
  },
  {
   "cell_type": "code",
   "execution_count": 50,
   "id": "01441988-39d3-47f7-b9d4-a7852106ebff",
   "metadata": {},
   "outputs": [
    {
     "data": {
      "text/plain": [
       "array([ 1., 50.])"
      ]
     },
     "execution_count": 50,
     "metadata": {},
     "output_type": "execute_result"
    }
   ],
   "source": [
    "import pandas as pd\n",
    "import numpy as np\n",
    "\n",
    "sclaes = np.linspace(1, 50, 2)\n",
    "means = np.linspace(1, 50, 1)\n",
    "\n",
    "randoms  = np.array([np.random.normal(loc, scale, 10) for scale in sclaes for loc in means])\n",
    "sclaes.shape, means.shape, sclaes, means\n",
    "sclaes"
   ]
  },
  {
   "cell_type": "markdown",
   "id": "e9e7dfc5-fc52-4c1b-a097-aa8a5e850255",
   "metadata": {},
   "source": [
    "Посмотрим на созданный массив."
   ]
  },
  {
   "cell_type": "code",
   "execution_count": 51,
   "id": "43378f75-45a5-4ec8-8f97-27ce197aae60",
   "metadata": {},
   "outputs": [
    {
     "data": {
      "text/plain": [
       "array([[ 2.52438206e+00,  2.02588989e+00,  1.88229969e+00,\n",
       "         6.60416104e-01, -3.76434421e-01,  1.68992308e+00,\n",
       "         7.83124721e-01, -5.84178865e-03,  1.37475466e+00,\n",
       "         1.31588990e+00],\n",
       "       [ 1.70877206e+01,  2.64950167e+01,  4.27012221e+01,\n",
       "         2.33537307e+01,  5.60021680e+01, -1.39058660e+01,\n",
       "         3.09679558e+01,  2.72436661e+01, -4.22414309e+01,\n",
       "         9.90088097e+01]])"
      ]
     },
     "execution_count": 51,
     "metadata": {},
     "output_type": "execute_result"
    }
   ],
   "source": [
    "randoms"
   ]
  },
  {
   "cell_type": "markdown",
   "id": "ba4e1462-5997-4069-bd8e-6f65e271216c",
   "metadata": {},
   "source": [
    "Посмотрим на статистики данных массивов\n"
   ]
  },
  {
   "cell_type": "code",
   "execution_count": 52,
   "id": "45349bdb-8707-44ee-9de8-0fe6e90cf0ff",
   "metadata": {},
   "outputs": [
    {
     "name": "stdout",
     "output_type": "stream",
     "text": [
      "1.1874403896222228 0.8711008754582108\n",
      "26.671299264768066 35.870761917426954\n"
     ]
    }
   ],
   "source": [
    "for i in randoms:\n",
    "    print(np.mean(i), np.std(i)) "
   ]
  },
  {
   "cell_type": "markdown",
   "id": "45789124-c306-44df-b5a7-17e66437c4a3",
   "metadata": {},
   "source": [
    "Добавим массивы в DataFrame."
   ]
  },
  {
   "cell_type": "code",
   "execution_count": 53,
   "id": "91a342a7-e8bb-4145-8b9d-e4be2667d75e",
   "metadata": {},
   "outputs": [
    {
     "data": {
      "text/html": [
       "<div>\n",
       "<style scoped>\n",
       "    .dataframe tbody tr th:only-of-type {\n",
       "        vertical-align: middle;\n",
       "    }\n",
       "\n",
       "    .dataframe tbody tr th {\n",
       "        vertical-align: top;\n",
       "    }\n",
       "\n",
       "    .dataframe thead th {\n",
       "        text-align: right;\n",
       "    }\n",
       "</style>\n",
       "<table border=\"1\" class=\"dataframe\">\n",
       "  <thead>\n",
       "    <tr style=\"text-align: right;\">\n",
       "      <th></th>\n",
       "      <th>0</th>\n",
       "      <th>1</th>\n",
       "    </tr>\n",
       "  </thead>\n",
       "  <tbody>\n",
       "    <tr>\n",
       "      <th>0</th>\n",
       "      <td>2.524382</td>\n",
       "      <td>17.087721</td>\n",
       "    </tr>\n",
       "    <tr>\n",
       "      <th>1</th>\n",
       "      <td>2.025890</td>\n",
       "      <td>26.495017</td>\n",
       "    </tr>\n",
       "    <tr>\n",
       "      <th>2</th>\n",
       "      <td>1.882300</td>\n",
       "      <td>42.701222</td>\n",
       "    </tr>\n",
       "    <tr>\n",
       "      <th>3</th>\n",
       "      <td>0.660416</td>\n",
       "      <td>23.353731</td>\n",
       "    </tr>\n",
       "    <tr>\n",
       "      <th>4</th>\n",
       "      <td>-0.376434</td>\n",
       "      <td>56.002168</td>\n",
       "    </tr>\n",
       "    <tr>\n",
       "      <th>5</th>\n",
       "      <td>1.689923</td>\n",
       "      <td>-13.905866</td>\n",
       "    </tr>\n",
       "    <tr>\n",
       "      <th>6</th>\n",
       "      <td>0.783125</td>\n",
       "      <td>30.967956</td>\n",
       "    </tr>\n",
       "    <tr>\n",
       "      <th>7</th>\n",
       "      <td>-0.005842</td>\n",
       "      <td>27.243666</td>\n",
       "    </tr>\n",
       "    <tr>\n",
       "      <th>8</th>\n",
       "      <td>1.374755</td>\n",
       "      <td>-42.241431</td>\n",
       "    </tr>\n",
       "    <tr>\n",
       "      <th>9</th>\n",
       "      <td>1.315890</td>\n",
       "      <td>99.008810</td>\n",
       "    </tr>\n",
       "  </tbody>\n",
       "</table>\n",
       "</div>"
      ],
      "text/plain": [
       "          0          1\n",
       "0  2.524382  17.087721\n",
       "1  2.025890  26.495017\n",
       "2  1.882300  42.701222\n",
       "3  0.660416  23.353731\n",
       "4 -0.376434  56.002168\n",
       "5  1.689923 -13.905866\n",
       "6  0.783125  30.967956\n",
       "7 -0.005842  27.243666\n",
       "8  1.374755 -42.241431\n",
       "9  1.315890  99.008810"
      ]
     },
     "execution_count": 53,
     "metadata": {},
     "output_type": "execute_result"
    }
   ],
   "source": [
    "randoms.T\n",
    "data = pd.DataFrame(randoms.T)\n",
    "data"
   ]
  },
  {
   "cell_type": "markdown",
   "id": "b4ebdcca-d896-45ee-bdb9-ec0b016203f9",
   "metadata": {},
   "source": [
    "Создадим объект, который можно будет использовать для трансформации данных."
   ]
  },
  {
   "cell_type": "code",
   "execution_count": 54,
   "id": "d2b430a3-7a70-4256-85d7-b5f48bf19680",
   "metadata": {},
   "outputs": [
    {
     "data": {
      "text/plain": [
       "StandardScaler()"
      ]
     },
     "execution_count": 54,
     "metadata": {},
     "output_type": "execute_result"
    }
   ],
   "source": [
    "from sklearn.preprocessing import StandardScaler\n",
    "\n",
    "scaller = StandardScaler()\n",
    "scaller.fit(data)"
   ]
  },
  {
   "cell_type": "markdown",
   "id": "8c2009f3-7fb9-4ebd-9cf1-7e5eecc63b17",
   "metadata": {},
   "source": [
    "Преобразуем данные"
   ]
  },
  {
   "cell_type": "code",
   "execution_count": 55,
   "id": "2a2532fe-5469-4f78-862c-9504f89592a5",
   "metadata": {},
   "outputs": [],
   "source": [
    "scalleddata = scaller.transform(data)"
   ]
  },
  {
   "cell_type": "code",
   "execution_count": 56,
   "id": "de688589-4737-4169-8e65-e6cd155511eb",
   "metadata": {},
   "outputs": [
    {
     "data": {
      "text/plain": [
       "array([[ 1.53477251, -0.26716964],\n",
       "       [ 0.96251711, -0.00491438],\n",
       "       [ 0.79767949,  0.44687991],\n",
       "       [-0.60500948, -0.09248671],\n",
       "       [-1.79528555,  0.81768179],\n",
       "       [ 0.5768364 , -1.13120444],\n",
       "       [-0.46414334,  0.11978158],\n",
       "       [-1.36985533,  0.01595636],\n",
       "       [ 0.21503167, -1.92113929],\n",
       "       [ 0.14745652,  2.01661483]])"
      ]
     },
     "execution_count": 56,
     "metadata": {},
     "output_type": "execute_result"
    }
   ],
   "source": [
    "scalleddata"
   ]
  },
  {
   "cell_type": "markdown",
   "id": "2cff5097-9299-4692-8259-3a9297332e74",
   "metadata": {},
   "source": [
    "Посмотрим на статистики, которые были получыены STandardScaler()"
   ]
  },
  {
   "cell_type": "code",
   "execution_count": 57,
   "id": "fbc99632-e73e-4ae9-bbb9-af34fe11cdec",
   "metadata": {},
   "outputs": [
    {
     "data": {
      "text/plain": [
       "(array([ 1.18744039, 26.67129926]), array([ 0.87110088, 35.87076192]))"
      ]
     },
     "execution_count": 57,
     "metadata": {},
     "output_type": "execute_result"
    }
   ],
   "source": [
    "scaller.mean_, scaller.scale_"
   ]
  },
  {
   "cell_type": "code",
   "execution_count": null,
   "id": "97122cd7-6b79-48ef-a6f1-5d07244299ed",
   "metadata": {},
   "outputs": [],
   "source": []
  },
  {
   "cell_type": "code",
   "execution_count": 74,
   "id": "e58a0fba-0916-4034-a88b-a8830f7a5bda",
   "metadata": {},
   "outputs": [
    {
     "ename": "ValueError",
     "evalue": "X has 1 features, but StandardScaler is expecting 2 features as input.",
     "output_type": "error",
     "traceback": [
      "\u001b[1;31m---------------------------------------------------------------------------\u001b[0m",
      "\u001b[1;31mValueError\u001b[0m                                Traceback (most recent call last)",
      "\u001b[1;32m~\\AppData\\Local\\Temp/ipykernel_18392/590591072.py\u001b[0m in \u001b[0;36m<module>\u001b[1;34m\u001b[0m\n\u001b[1;32m----> 1\u001b[1;33m \u001b[0mscaller\u001b[0m\u001b[1;33m.\u001b[0m\u001b[0mtransform\u001b[0m\u001b[1;33m(\u001b[0m\u001b[0mdata\u001b[0m\u001b[1;33m.\u001b[0m\u001b[0miloc\u001b[0m\u001b[1;33m[\u001b[0m\u001b[1;33m:\u001b[0m\u001b[1;33m,\u001b[0m \u001b[1;36m0\u001b[0m\u001b[1;33m:\u001b[0m\u001b[1;36m1\u001b[0m\u001b[1;33m]\u001b[0m\u001b[1;33m)\u001b[0m\u001b[1;33m\u001b[0m\u001b[1;33m\u001b[0m\u001b[0m\n\u001b[0m",
      "\u001b[1;32m~\\.virtualenvs\\01_python_packages-rD-UbwAe\\lib\\site-packages\\sklearn\\preprocessing\\_data.py\u001b[0m in \u001b[0;36mtransform\u001b[1;34m(self, X, copy)\u001b[0m\n\u001b[0;32m    971\u001b[0m \u001b[1;33m\u001b[0m\u001b[0m\n\u001b[0;32m    972\u001b[0m         \u001b[0mcopy\u001b[0m \u001b[1;33m=\u001b[0m \u001b[0mcopy\u001b[0m \u001b[1;32mif\u001b[0m \u001b[0mcopy\u001b[0m \u001b[1;32mis\u001b[0m \u001b[1;32mnot\u001b[0m \u001b[1;32mNone\u001b[0m \u001b[1;32melse\u001b[0m \u001b[0mself\u001b[0m\u001b[1;33m.\u001b[0m\u001b[0mcopy\u001b[0m\u001b[1;33m\u001b[0m\u001b[1;33m\u001b[0m\u001b[0m\n\u001b[1;32m--> 973\u001b[1;33m         X = self._validate_data(\n\u001b[0m\u001b[0;32m    974\u001b[0m             \u001b[0mX\u001b[0m\u001b[1;33m,\u001b[0m\u001b[1;33m\u001b[0m\u001b[1;33m\u001b[0m\u001b[0m\n\u001b[0;32m    975\u001b[0m             \u001b[0mreset\u001b[0m\u001b[1;33m=\u001b[0m\u001b[1;32mFalse\u001b[0m\u001b[1;33m,\u001b[0m\u001b[1;33m\u001b[0m\u001b[1;33m\u001b[0m\u001b[0m\n",
      "\u001b[1;32m~\\.virtualenvs\\01_python_packages-rD-UbwAe\\lib\\site-packages\\sklearn\\base.py\u001b[0m in \u001b[0;36m_validate_data\u001b[1;34m(self, X, y, reset, validate_separately, **check_params)\u001b[0m\n\u001b[0;32m    574\u001b[0m \u001b[1;33m\u001b[0m\u001b[0m\n\u001b[0;32m    575\u001b[0m         \u001b[1;32mif\u001b[0m \u001b[1;32mnot\u001b[0m \u001b[0mno_val_X\u001b[0m \u001b[1;32mand\u001b[0m \u001b[0mcheck_params\u001b[0m\u001b[1;33m.\u001b[0m\u001b[0mget\u001b[0m\u001b[1;33m(\u001b[0m\u001b[1;34m\"ensure_2d\"\u001b[0m\u001b[1;33m,\u001b[0m \u001b[1;32mTrue\u001b[0m\u001b[1;33m)\u001b[0m\u001b[1;33m:\u001b[0m\u001b[1;33m\u001b[0m\u001b[1;33m\u001b[0m\u001b[0m\n\u001b[1;32m--> 576\u001b[1;33m             \u001b[0mself\u001b[0m\u001b[1;33m.\u001b[0m\u001b[0m_check_n_features\u001b[0m\u001b[1;33m(\u001b[0m\u001b[0mX\u001b[0m\u001b[1;33m,\u001b[0m \u001b[0mreset\u001b[0m\u001b[1;33m=\u001b[0m\u001b[0mreset\u001b[0m\u001b[1;33m)\u001b[0m\u001b[1;33m\u001b[0m\u001b[1;33m\u001b[0m\u001b[0m\n\u001b[0m\u001b[0;32m    577\u001b[0m \u001b[1;33m\u001b[0m\u001b[0m\n\u001b[0;32m    578\u001b[0m         \u001b[1;32mreturn\u001b[0m \u001b[0mout\u001b[0m\u001b[1;33m\u001b[0m\u001b[1;33m\u001b[0m\u001b[0m\n",
      "\u001b[1;32m~\\.virtualenvs\\01_python_packages-rD-UbwAe\\lib\\site-packages\\sklearn\\base.py\u001b[0m in \u001b[0;36m_check_n_features\u001b[1;34m(self, X, reset)\u001b[0m\n\u001b[0;32m    393\u001b[0m \u001b[1;33m\u001b[0m\u001b[0m\n\u001b[0;32m    394\u001b[0m         \u001b[1;32mif\u001b[0m \u001b[0mn_features\u001b[0m \u001b[1;33m!=\u001b[0m \u001b[0mself\u001b[0m\u001b[1;33m.\u001b[0m\u001b[0mn_features_in_\u001b[0m\u001b[1;33m:\u001b[0m\u001b[1;33m\u001b[0m\u001b[1;33m\u001b[0m\u001b[0m\n\u001b[1;32m--> 395\u001b[1;33m             raise ValueError(\n\u001b[0m\u001b[0;32m    396\u001b[0m                 \u001b[1;34mf\"X has {n_features} features, but {self.__class__.__name__} \"\u001b[0m\u001b[1;33m\u001b[0m\u001b[1;33m\u001b[0m\u001b[0m\n\u001b[0;32m    397\u001b[0m                 \u001b[1;34mf\"is expecting {self.n_features_in_} features as input.\"\u001b[0m\u001b[1;33m\u001b[0m\u001b[1;33m\u001b[0m\u001b[0m\n",
      "\u001b[1;31mValueError\u001b[0m: X has 1 features, but StandardScaler is expecting 2 features as input."
     ]
    }
   ],
   "source": [
    "scaller.transform(data.iloc[:, 0:1])"
   ]
  },
  {
   "cell_type": "code",
   "execution_count": null,
   "id": "fccf3886-72e0-476c-9d3c-c9a6d205257f",
   "metadata": {},
   "outputs": [],
   "source": []
  },
  {
   "cell_type": "code",
   "execution_count": null,
   "id": "e7af47b9-c173-4080-b320-ca07355cb21a",
   "metadata": {},
   "outputs": [],
   "source": []
  },
  {
   "cell_type": "code",
   "execution_count": null,
   "id": "7581a9c9-fc7b-4af4-9715-a9424fa77dee",
   "metadata": {},
   "outputs": [],
   "source": []
  },
  {
   "cell_type": "code",
   "execution_count": null,
   "id": "1dddb6af-614c-4df0-8a76-813a5dfbb113",
   "metadata": {},
   "outputs": [],
   "source": []
  }
 ],
 "metadata": {
  "kernelspec": {
   "display_name": "Python 3 (ipykernel)",
   "language": "python",
   "name": "python3"
  },
  "language_info": {
   "codemirror_mode": {
    "name": "ipython",
    "version": 3
   },
   "file_extension": ".py",
   "mimetype": "text/x-python",
   "name": "python",
   "nbconvert_exporter": "python",
   "pygments_lexer": "ipython3",
   "version": "3.9.4"
  }
 },
 "nbformat": 4,
 "nbformat_minor": 5
}
