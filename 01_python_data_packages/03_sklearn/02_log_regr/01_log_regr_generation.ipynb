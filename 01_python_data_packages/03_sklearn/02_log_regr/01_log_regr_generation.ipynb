{
 "cells": [
  {
   "cell_type": "code",
   "execution_count": 82,
   "id": "e8405dd0-4229-4a4c-8c38-384b5d96166a",
   "metadata": {},
   "outputs": [],
   "source": [
    "from matplotlib.colors import ListedColormap"
   ]
  },
  {
   "cell_type": "code",
   "execution_count": 147,
   "id": "58816506-1ad2-49d0-9111-8cbb99c09773",
   "metadata": {},
   "outputs": [
    {
     "name": "stdout",
     "output_type": "stream",
     "text": [
      "-0.9714937896581799 [-0.97149379] 0\n",
      "-0.8092119162849212 [-0.80921192] 0\n",
      "-1.0995395124225542 [-1.09953951] 0\n",
      "1.380009003725731 [1.380009] 1\n",
      "-1.22376850436934 [-1.2237685] 0\n",
      "1.0119512225648348 [1.01195122] 1\n",
      "-1.0219363814631028 [-1.02193638] 0\n",
      "-0.6983446982219198 [-0.6983447] 0\n",
      "1.155140576600807 [1.15514058] 1\n",
      "1.0643619147678165 [1.06436191] 1\n"
     ]
    },
    {
     "data": {
      "image/png": "[encoded data removed]",
      "text/plain": [
       "<Figure size 432x288 with 1 Axes>"
      ]
     },
     "metadata": {
      "needs_background": "light"
     },
     "output_type": "display_data"
    }
   ],
   "source": [
    "c2 = datasets.make_classification(n_features = 1, \n",
    "                                  n_informative = 1, \n",
    "                                  n_redundant = 0, \n",
    "                                  n_clusters_per_class = 1, \n",
    "                                  class_sep=1, \n",
    "                                  random_state=0)\n",
    "data = list(zip(*c2[0]))\n",
    "data_x = data[0]\n",
    "data_y = c2[1]      \n",
    "plt.scatter(data_x, data_y, c=c2[1], cmap=colors)\n",
    "for i in range(0, 10):\n",
    "    print(data_x[i], c2[0][i], c2[1][i])"
   ]
  },
  {
   "cell_type": "code",
   "execution_count": 129,
   "id": "b0070722-ffd5-4895-8dfe-97dc6c8e2814",
   "metadata": {},
   "outputs": [
    {
     "ename": "IndexError",
     "evalue": "list index out of range",
     "output_type": "error",
     "traceback": [
      "\u001b[1;31m---------------------------------------------------------------------------\u001b[0m",
      "\u001b[1;31mIndexError\u001b[0m                                Traceback (most recent call last)",
      "\u001b[1;32m~\\AppData\\Local\\Temp/ipykernel_10548/165695656.py\u001b[0m in \u001b[0;36m<module>\u001b[1;34m\u001b[0m\n\u001b[1;32m----> 1\u001b[1;33m \u001b[0mlist\u001b[0m\u001b[1;33m(\u001b[0m\u001b[0mzip\u001b[0m\u001b[1;33m(\u001b[0m\u001b[1;33m*\u001b[0m\u001b[0mc2\u001b[0m\u001b[1;33m[\u001b[0m\u001b[1;36m0\u001b[0m\u001b[1;33m]\u001b[0m\u001b[1;33m)\u001b[0m\u001b[1;33m)\u001b[0m\u001b[1;33m[\u001b[0m\u001b[1;36m0\u001b[0m\u001b[1;33m]\u001b[0m\u001b[1;33m,\u001b[0m \u001b[0mlist\u001b[0m\u001b[1;33m(\u001b[0m\u001b[0mzip\u001b[0m\u001b[1;33m(\u001b[0m\u001b[1;33m*\u001b[0m\u001b[0mc2\u001b[0m\u001b[1;33m[\u001b[0m\u001b[1;36m0\u001b[0m\u001b[1;33m]\u001b[0m\u001b[1;33m)\u001b[0m\u001b[1;33m)\u001b[0m\u001b[1;33m[\u001b[0m\u001b[1;36m1\u001b[0m\u001b[1;33m]\u001b[0m\u001b[1;33m\u001b[0m\u001b[1;33m\u001b[0m\u001b[0m\n\u001b[0m",
      "\u001b[1;31mIndexError\u001b[0m: list index out of range"
     ]
    }
   ],
   "source": [
    "list(zip(*c2[0]))[0], list(zip(*c2[0]))[1]"
   ]
  },
  {
   "cell_type": "code",
   "execution_count": null,
   "id": "1d816f6a-488f-475c-98c7-199242617a90",
   "metadata": {},
   "outputs": [],
   "source": []
  },
  {
   "cell_type": "code",
   "execution_count": null,
   "id": "67baf4a9",
   "metadata": {},
   "outputs": [],
   "source": []
  },
  {
   "cell_type": "code",
   "execution_count": null,
   "id": "449a3546",
   "metadata": {},
   "outputs": [],
   "source": []
  }
 ],
 "metadata": {
  "kernelspec": {
   "display_name": "Python 3 (ipykernel)",
   "language": "python",
   "name": "python3"
  },
  "language_info": {
   "codemirror_mode": {
    "name": "ipython",
    "version": 3
   },
   "file_extension": ".py",
   "mimetype": "text/x-python",
   "name": "python",
   "nbconvert_exporter": "python",
   "pygments_lexer": "ipython3",
   "version": "3.9.4"
  }
 },
 "nbformat": 4,
 "nbformat_minor": 5
}
